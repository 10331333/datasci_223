{
 "cells": [
  {
   "cell_type": "markdown",
   "metadata": {},
   "source": [
    "# Classification on `emnist`\n",
    "\n",
    "## 1. Create `Readme.md` to document your work\n",
    "\n",
    "Explain your choices, process, and outcomes.\n",
    "\n",
    "## 2. Classify ~~all symbols~~ letters a -> g\n",
    "\n",
    "### Subset the data\n",
    "\n",
    "Select only the lowercase letters (a, b, ..., g) for classification\n",
    "\n",
    "### Choose a model\n",
    "\n",
    "Your choice of model! Choose wisely...\n",
    "\n",
    "### Train away!\n",
    "\n",
    "Is do you need to tune any parameters? Is the model expecting data in a different format?\n",
    "\n",
    "### Evaluate the model\n",
    "\n",
    "Evaluate the models on the test set, analyze the confusion matrix to see where the model performs well and where it struggles.\n",
    "\n",
    "### Investigate subsets\n",
    "\n",
    "On which classes does the model perform well? Poorly? Evaluate again, excluding easily confused symbols (such as 'O' and '0').\n",
    "\n",
    "### Improve performance\n",
    "\n",
    "Brainstorm for improving the performance. This could include trying different architectures, adding more layers, changing the loss function, or using data augmentation techniques.\n",
    "\n",
    "## 3. Model showdown: upper vs lowercase on abcXYZ\n",
    "\n",
    "### Subset the data\n",
    "\n",
    "Select out the set of upper- and lowercase (a, b, c, x, y z, A, B, C, X, Y, Z). Note that some of these classes can be confusing (e.g., x and y).\n",
    "\n",
    "### Train and tune models\n",
    "\n",
    "Perform a full model training and hyperparameter tuning.\n",
    "\n",
    "1. Select candidate models, hyperparameter options, and evaluation metric\n",
    "2. Set aside a validation hold-out dataset\n",
    "3. Train models over K splits (use k-fold or train/test split)\n",
    "    1. Split train using k-fold with the number of folds equal to the number of parameter combinations\n",
    "    2. Train on k-fold split\n",
    "    3. Record performance of each set of parameters\n",
    "    4. Use winning set of parameters to train model on full training set\n",
    "    5. Record each model's performance on that split's test set\n",
    "4. Evaluate model performance and promote one model as the winner\n",
    "5. Train winning model on both train + test\n",
    "6. Check model performance on the validation hold-out\n",
    "\n",
    "\n",
    "## 4. (_Optional_) Model comparison: classify even vs odd\n",
    "\n",
    "**NOTE:** This is a larger dataset (~400k rows) so it will require more memory and time to train models on it. \n",
    "\n",
    "Alternatively, you can train models on smaller subsets of the data to get a feel for which models perform better than others. Then train the winning model on the full dataset and validate against the hold-out.\n",
    "\n",
    "### Subset the data\n",
    "\n",
    "Select only digits and add a column for 'is_even'. Be sure to create a validation hold-out dataset for later.\n",
    "\n",
    "### Build and compare models\n",
    "\n",
    "Train at least two different models, compare the results and choose a winner based on an evaluation metric of your choice."
   ]
  },
  {
   "cell_type": "code",
   "execution_count": 1,
   "metadata": {},
   "outputs": [
    {
     "name": "stdout",
     "output_type": "stream",
     "text": [
      "\n",
      "\u001b[1m[\u001b[0m\u001b[34;49mnotice\u001b[0m\u001b[1;39;49m]\u001b[0m\u001b[39;49m A new release of pip is available: \u001b[0m\u001b[31;49m23.3.2\u001b[0m\u001b[39;49m -> \u001b[0m\u001b[32;49m24.0\u001b[0m\n",
      "\u001b[1m[\u001b[0m\u001b[34;49mnotice\u001b[0m\u001b[1;39;49m]\u001b[0m\u001b[39;49m To update, run: \u001b[0m\u001b[32;49mpython3 -m pip install --upgrade pip\u001b[0m\n",
      "Note: you may need to restart the kernel to use updated packages.\n"
     ]
    }
   ],
   "source": [
    "%pip install -q emnist pandas pyarrow numpy matplotlib seaborn scikit-learn xgboost tensorflow\n",
    "%reset -f"
   ]
  },
  {
   "cell_type": "code",
   "execution_count": 2,
   "metadata": {},
   "outputs": [],
   "source": [
    "# Import packages\n",
    "import os\n",
    "import string\n",
    "import random\n",
    "import numpy as np\n",
    "import pandas as pd\n",
    "import matplotlib.pyplot as plt\n",
    "import seaborn as sns\n",
    "import emnist\n",
    "from IPython.display import display, Markdown\n",
    "\n",
    "\n",
    "\n",
    "# ML packages\n",
    "# Model selection\n",
    "from sklearn.model_selection import cross_val_score, cross_validate, KFold, ParameterGrid, train_test_split\n",
    "# Random Forest\n",
    "from sklearn.ensemble import RandomForestClassifier\n",
    "from sklearn.metrics import confusion_matrix, accuracy_score, precision_score, recall_score, f1_score, classification_report\n",
    "# Logistic Regression\n",
    "from sklearn.linear_model import LogisticRegression\n",
    "from sklearn.preprocessing import StandardScaler\n",
    "# XGBoost (SVM)\n",
    "from xgboost import XGBClassifier\n",
    "# Deep Learning\n",
    "import tensorflow as tf\n",
    "from tensorflow import keras\n",
    "from tensorflow.keras.models import Sequential\n",
    "from tensorflow.keras.layers import Dense, Flatten\n",
    "from tensorflow.keras.losses import CategoricalCrossentropy\n",
    "# Keras formatting helper\n",
    "from scikeras.wrappers import KerasClassifier\n",
    "\n",
    "# Constants\n",
    "SIZE = 28\n",
    "os.environ['TF_CPP_MIN_LOG_LEVEL'] = '2' # or 3 to suppress all warnings"
   ]
  },
  {
   "cell_type": "code",
   "execution_count": 3,
   "metadata": {},
   "outputs": [],
   "source": [
    "# Define helper functions\n",
    "def int_to_char(label):\n",
    "    \"\"\"Convert an integer label to the corresponding uppercase character.\"\"\"\n",
    "    if label < 10:\n",
    "        return str(label)\n",
    "    elif label < 36:\n",
    "        return chr(label - 10 + ord('A'))\n",
    "    else:\n",
    "        return chr(label - 36 + ord('a'))\n",
    "\n",
    "def show_image(row):\n",
    "    \"\"\"Display a single image and its corresponding label.\"\"\"\n",
    "    image = row['image']\n",
    "    label = row['label']\n",
    "    plt.imshow(image, cmap='gray')\n",
    "    plt.title('Label: ' + int_to_char(label))\n",
    "    plt.axis('off')\n",
    "    plt.show()\n",
    "\n",
    "def show_grid(data, title=None, num_cols=5, figsize=(20, 10)):\n",
    "    \"\"\"\n",
    "    Display a list of images as a grid of num_cols columns.\n",
    "    images: a list of images, each represented as a 28x28 numpy array\n",
    "    labels: a list of labels, one for each image\n",
    "    title: (optional) a title for the plot\n",
    "    num_cols: (optional) number of columns to use in the grid\n",
    "    figsize: (optional) size of the figure\n",
    "    \"\"\"\n",
    "    num_images = len(data)\n",
    "    num_rows = (num_images - 1) // num_cols + 1\n",
    "    fig, axes = plt.subplots(num_rows, num_cols, figsize=figsize)\n",
    "    if title is not None:\n",
    "        fig.suptitle(title, fontsize=16)\n",
    "    for i in range(num_rows):\n",
    "        for j in range(num_cols):\n",
    "            index = i * num_cols + j\n",
    "            if index < num_images:\n",
    "                axes[i, j].imshow(data.iloc[index]['image'], cmap='gray')\n",
    "                axes[i, j].axis('off')\n",
    "                label = int_to_char(data.iloc[index]['label'])\n",
    "                axes[i, j].set_title(label)\n",
    "    plt.show()\n",
    "\n",
    "# Get a random image of a given label from the dataset\n",
    "def get_image_by_label(data, label):\n",
    "    \"\"\"Get a random image of a given label from the dataset.\"\"\"\n",
    "    images = data[data['label'] == label]['image'].tolist()\n",
    "    return random.choice(images)\n",
    "\n",
    "# Plot the training and validation accuracy during the training of a model\n",
    "def plot_accuracy(history):\n",
    "    \"\"\"Plot the training and validation accuracy during the training of a model.\"\"\"\n",
    "    acc = history.history['accuracy']\n",
    "    val_acc = history.history['val_accuracy']\n",
    "    epochs = range(1, len(acc) + 1)\n",
    "    plt.plot(epochs, acc, 'bo', label='Training accuracy')\n",
    "    plt.plot(epochs, val_acc, 'b', label='Validation accuracy')\n",
    "    plt.title('Training and validation accuracy')\n",
    "    plt.xlabel('Epochs')\n",
    "    plt.ylabel('Accuracy')\n",
    "    plt.legend()\n",
    "    plt.show()\n",
    "\n",
    "# Plot the training and validation loss during the training of a model\n",
    "def plot_loss(history):\n",
    "    \"\"\"Plot the training and validation loss during the training of a model.\"\"\"\n",
    "    loss = history.history['loss']\n",
    "    val_loss = history.history['val_loss']\n",
    "    epochs = range(1, len(loss) + 1)\n",
    "    plt.plot(epochs, loss, 'bo', label='Training loss')\n",
    "    plt.plot(epochs, val_loss, 'b', label='Validation loss')\n",
    "    plt.title('Training and validation loss')\n",
    "    plt.xlabel('Epochs')\n",
    "    plt.ylabel('Loss')\n",
    "    plt.legend()\n",
    "    plt.show()\n",
    "\n",
    "# Normalize the pixel values of the images in the dataset to have zero mean and unit variance\n",
    "# This is a common preprocessing step for neural networks, but may not be necessary in all cases\n",
    "def normalize_images(images):\n",
    "    \"\"\"Normalize the pixel values of the images in the dataset to have zero mean and unit variance.\"\"\"\n",
    "    images = np.array(images)\n",
    "    mean = images.mean()\n",
    "    std = images.std()\n",
    "    images = (images - mean) / std\n",
    "    return images.tolist()\n",
    "\n",
    "# Display metrics for a model\n",
    "def display_metrics(task, model_name, metrics_dict):\n",
    "    \"\"\"Display performance metrics and confusion matrix for a model.\"\"\"\n",
    "    metrics_df = pd.DataFrame()\n",
    "    cm_df = pd.DataFrame()\n",
    "    for key, value in metrics_dict[task][model_name].items():\n",
    "        if type(value) == np.ndarray:\n",
    "            cm_df = pd.DataFrame(value, index=['actual 0', 'actual 1'], columns=['predicted 0', 'predicted 1'])\n",
    "        else:\n",
    "            metrics_df[key] = [value]\n",
    "    display(Markdown(f'# Performance Metrics: {model_name}'))\n",
    "    display(metrics_df)\n",
    "    display(Markdown(f'# Confusion Matrix: {model_name}'))\n",
    "    display(cm_df)"
   ]
  },
  {
   "cell_type": "code",
   "execution_count": 4,
   "metadata": {},
   "outputs": [],
   "source": [
    "# Load data\n",
    "\n",
    "# Extract the training split as images and labels\n",
    "image, label = emnist.extract_training_samples('byclass')\n",
    "\n",
    "# Add columns for each pixel value (28x28 = 784 columns)\n",
    "emnist_train = pd.DataFrame()\n",
    "\n",
    "# Add a column with the image data as a 28x28 array\n",
    "emnist_train['image'] = list(image)\n",
    "emnist_train['image_flat'] = emnist_train['image'].apply(lambda x: np.array(x).reshape(-1))\n",
    "\n",
    "# Add a column showing the label\n",
    "emnist_train['label'] = label\n",
    "\n",
    "# Convert labels to characters\n",
    "class_label = np.array([int_to_char(l) for l in label])\n",
    "\n",
    "# Add a column with the character corresponding to the label\n",
    "emnist_train['class'] = class_label\n",
    "\n",
    "# Repeat for the test split\n",
    "image, label = emnist.extract_test_samples('byclass')\n",
    "class_label = np.array([int_to_char(l) for l in label])\n",
    "emnist_test = pd.DataFrame()\n",
    "emnist_test['image'] = list(image)\n",
    "emnist_test['image_flat'] = emnist_test['image'].apply(lambda x: np.array(x).reshape(-1))\n",
    "emnist_test['label'] = label\n",
    "emnist_test['class'] = class_label\n",
    "\n",
    "# Combine the training and test splits\n",
    "emnist_all = pd.concat([emnist_train, emnist_test], axis=0)\n",
    "\n",
    "# Subset for only digits 0-9\n",
    "digits = emnist_all[emnist_all['label'] < 10]\n",
    "\n",
    "# Subset for lowercase letters\n",
    "lowercase = emnist_all[(emnist_all['class'] >= 'a') & (emnist_all['class'] <= 'z')]\n",
    "uppercase = emnist_all[(emnist_all['class'] >= 'A') & (emnist_all['class'] <= 'Z')]\n",
    "\n",
    "# Subset for upper- and lowercase letters a, b, c, d, e, f, g\n",
    "a2g = emnist_all[(emnist_all['class'].isin(['a', 'b', 'c', 'd', 'e', 'f', 'g']))]\n",
    "\n",
    "# Subset for upper- and lowercase letters a, b, c, x, y, z\n",
    "abcxyz = emnist_all[(emnist_all['class'].isin(['a', 'b', 'c', 'A', 'B', 'C', \\\n",
    "                                               'x', 'y', 'z', 'X', 'Y', 'Z']))]"
   ]
  },
  {
   "cell_type": "code",
   "execution_count": 5,
   "metadata": {},
   "outputs": [
    {
     "data": {
      "text/markdown": [
       "# Dataset Sizes"
      ],
      "text/plain": [
       "<IPython.core.display.Markdown object>"
      ]
     },
     "metadata": {},
     "output_type": "display_data"
    },
    {
     "data": {
      "text/markdown": [
       "**a2g**: 68795"
      ],
      "text/plain": [
       "<IPython.core.display.Markdown object>"
      ]
     },
     "metadata": {},
     "output_type": "display_data"
    },
    {
     "data": {
      "text/markdown": [
       "**abcxyz**: 65926"
      ],
      "text/plain": [
       "<IPython.core.display.Markdown object>"
      ]
     },
     "metadata": {},
     "output_type": "display_data"
    },
    {
     "data": {
      "text/markdown": [
       "**digits**: 402953"
      ],
      "text/plain": [
       "<IPython.core.display.Markdown object>"
      ]
     },
     "metadata": {},
     "output_type": "display_data"
    },
    {
     "data": {
      "text/markdown": [
       "**emnist_all**: 814255"
      ],
      "text/plain": [
       "<IPython.core.display.Markdown object>"
      ]
     },
     "metadata": {},
     "output_type": "display_data"
    }
   ],
   "source": [
    "# Display the size of a2g, abcxyz, digits, and the full dataset\n",
    "display(Markdown(f'# Dataset Sizes'))\n",
    "display(Markdown(f'**a2g**: {len(a2g)}'))\n",
    "display(Markdown(f'**abcxyz**: {len(abcxyz)}'))\n",
    "display(Markdown(f'**digits**: {len(digits)}'))\n",
    "display(Markdown(f'**emnist_all**: {len(emnist_all)}'))"
   ]
  },
  {
   "cell_type": "code",
   "execution_count": 6,
   "metadata": {},
   "outputs": [
    {
     "name": "stderr",
     "output_type": "stream",
     "text": [
      "/var/folders/z9/93thyyl57vd2c58_d39dsb7m0000gn/T/ipykernel_74606/3892340535.py:2: SettingWithCopyWarning: \n",
      "A value is trying to be set on a copy of a slice from a DataFrame.\n",
      "Try using .loc[row_indexer,col_indexer] = value instead\n",
      "\n",
      "See the caveats in the documentation: https://pandas.pydata.org/pandas-docs/stable/user_guide/indexing.html#returning-a-view-versus-a-copy\n",
      "  abcxyz['is_upper'] = abcxyz['class'].apply(lambda x: 1 if x.isupper() else 0)\n",
      "/var/folders/z9/93thyyl57vd2c58_d39dsb7m0000gn/T/ipykernel_74606/3892340535.py:6: SettingWithCopyWarning: \n",
      "A value is trying to be set on a copy of a slice from a DataFrame.\n",
      "Try using .loc[row_indexer,col_indexer] = value instead\n",
      "\n",
      "See the caveats in the documentation: https://pandas.pydata.org/pandas-docs/stable/user_guide/indexing.html#returning-a-view-versus-a-copy\n",
      "  digits['is_even'] = digits['label'].apply(lambda x: 1 if (x%2 == 0) else 0)\n"
     ]
    }
   ],
   "source": [
    "# FIXME: Classify lettters as uppercase/lowercase\n",
    "abcxyz['is_upper'] = abcxyz['class'].apply(lambda x: 1 if x.isupper() else 0)\n",
    "\n",
    "# FIXME: Classify digits as even/odd\n",
    "even_num = [x for x in range (10) if x%2 == 0]\n",
    "digits['is_even'] = digits['label'].apply(lambda x: 1 if (x%2 == 0) else 0)"
   ]
  },
  {
   "cell_type": "markdown",
   "metadata": {},
   "source": [
    "## Task 1: Classify all symbols done in exercise 4 \n",
    "Follow link in [readme.md](https://github.com/10331333/datasci_223/blob/homework/exercises/4-classification/readme.md \"exercise4 readme.md\") or download [exercise4.ipynb](https://github.com/10331333/datasci_223/blob/homework/exercises/4-classification/exercise4.ipynb \"exercise4.ipynb\").\n",
    "\n"
   ]
  },
  {
   "cell_type": "markdown",
   "metadata": {},
   "source": [
    "## Task 2: Model showdown: upper vs lowercase on abcXYZ\n",
    "\n",
    "### Subset the data\n",
    "\n",
    "Select out the set of upper- and lowercase (a, b, c, x, y z, A, B, C, X, Y, Z). Note that some of these classes can be confusing (e.g., x and y).\n",
    "\n",
    "### Train and tune models\n",
    "\n",
    "Perform a full model training and hyperparameter tuning.\n",
    "\n",
    "1. Select candidate models, hyperparameter options, and evaluation metric\n",
    "2. Set aside a validation hold-out dataset\n",
    "3. Train models over K splits (use k-fold or train/test split)\n",
    "    1. Split train using k-fold with the number of folds equal to the number of parameter combinations\n",
    "    2. Train on k-fold split\n",
    "    3. Record performance of each set of parameters\n",
    "    4. Use winning set of parameters to train model on full training set\n",
    "    5. Record each model's performance on that split's test set\n",
    "4. Evaluate model performance and promote one model as the winner\n",
    "5. Train winning model on both train + test\n",
    "6. Check model performance on the validation hold-out"
   ]
  },
  {
   "cell_type": "code",
   "execution_count": 7,
   "metadata": {},
   "outputs": [],
   "source": [
    "# Candidate models are: random forest, xgboost, nn, lr\n",
    "# Define hyperparameter options: use GridSearchCV() to search for best set of hyperparameters in each model\n",
    "logireg_param_grid = {'penalty': ['l1', 'l2'],'C': [0.1, 10], 'max_iter': [100, 1000]}\n",
    "rf_param_grid = {'n_estimators': [50,100], 'max_depth': [None, 10], 'min_samples_split': [2, 5]}\n",
    "xgb_param_grid = {'n_estimators': [50,100], 'max_depth': [3, 5],'learning_rate': [0.01, 0.1]}\n",
    "nn_param_grid = {'batch_size': [16, 32, 64, 128],'epochs': [5, 10]}\n",
    "\n",
    "# Hyperparameter evaluation will be done by accuracy. \n",
    "scoring_metric = 'accuracy'"
   ]
  },
  {
   "cell_type": "code",
   "execution_count": 8,
   "metadata": {},
   "outputs": [],
   "source": [
    "# Set aside validation hold out set = X_val, y_val\n",
    "scaler = StandardScaler()\n",
    "X=scaler.fit_transform(abcxyz['image_flat'].tolist()) #scale image \n",
    "y=abcxyz['is_upper'].tolist()\n",
    "X_train, X_val, y_train, y_val = train_test_split(X, y, test_size=0.3, random_state=42)\n"
   ]
  },
  {
   "cell_type": "code",
   "execution_count": 9,
   "metadata": {},
   "outputs": [],
   "source": [
    "# Initialize neural network model\n",
    "def build_nn_model(): \n",
    "    \"\"\"Define model to build neural network model \"\"\"\n",
    "    model = Sequential([\n",
    "        keras.layers.InputLayer(input_shape=(784,)),\n",
    "        keras.layers.Dense(64, activation='relu'),\n",
    "        keras.layers.Dense(32, activation='relu'),\n",
    "        keras.layers.Dense(1, activation='sigmoid')])\n",
    "    model.compile(optimizer='adam', loss='binary_crossentropy', metrics=['accuracy'])\n",
    "    return model \n"
   ]
  },
  {
   "cell_type": "code",
   "execution_count": 46,
   "metadata": {},
   "outputs": [],
   "source": [
    "from itertools import product\n",
    "\"\"\" Define dictionary that list of models, parameters, number of hyperparamter combination to be tested \n",
    "    key = 'model_name'\n",
    "    values = (model, parameter_grid, length_of_parameter_grid) tuple  \"\"\"\n",
    "\n",
    "uppercase_models = {\n",
    "    'logistic_regression': (\n",
    "        LogisticRegression(random_state=42, solver='liblinear', max_iter=1000), \n",
    "        logireg_param_grid, \n",
    "        len(list(product(*logireg_param_grid.values())))\n",
    "    )\n",
    "\n",
    "\n",
    "}"
   ]
  },
  {
   "cell_type": "markdown",
   "metadata": {},
   "source": [
    "        'xgboost': (\n",
    "        XGBClassifier(random_state=42), \n",
    "        xgb_param_grid, \n",
    "        len(list(product(*xgb_param_grid.values())))\n",
    "    ),\n",
    "    'random_forest': (\n",
    "        RandomForestClassifier(random_state=42), \n",
    "        rf_param_grid, \n",
    "        len(list(product(*rf_param_grid.values())))\n",
    "    ),\n",
    "    'neural_network': (\n",
    "        KerasClassifier(build_fn=build_nn_model), \n",
    "        nn_param_grid, \n",
    "        len(list(product(*nn_param_grid.values())))\n",
    "        )"
   ]
  },
  {
   "cell_type": "code",
   "execution_count": 11,
   "metadata": {},
   "outputs": [
    {
     "data": {
      "text/plain": [
       "4615"
      ]
     },
     "execution_count": 11,
     "metadata": {},
     "output_type": "execute_result"
    }
   ],
   "source": [
    "# Subset for test runs\n",
    "random.seed(42)\n",
    "subset_true = random.sample(range(len(X_train)), round(len(X_train)/10))\n",
    "temp_x = X_train[subset_true,]\n",
    "temp_y = [y_train[i] for i in subset_true]\n",
    "len(temp_x)"
   ]
  },
  {
   "cell_type": "code",
   "execution_count": 47,
   "metadata": {},
   "outputs": [
    {
     "data": {
      "text/markdown": [
       "## Now initializing logistic_regression"
      ],
      "text/plain": [
       "<IPython.core.display.Markdown object>"
      ]
     },
     "metadata": {},
     "output_type": "display_data"
    },
    {
     "name": "stdout",
     "output_type": "stream",
     "text": [
      "Fitting 8 folds for each of 8 candidates, totalling 64 fits\n",
      "Fitting 8 folds for each of 8 candidates, totalling 64 fits\n",
      "Fitting 8 folds for each of 8 candidates, totalling 64 fits\n",
      "Fitting 8 folds for each of 8 candidates, totalling 64 fits\n",
      "Fitting 8 folds for each of 8 candidates, totalling 64 fits\n"
     ]
    },
    {
     "name": "stderr",
     "output_type": "stream",
     "text": [
      "/Library/Frameworks/Python.framework/Versions/3.11/lib/python3.11/site-packages/sklearn/svm/_base.py:1237: ConvergenceWarning: Liblinear failed to converge, increase the number of iterations.\n",
      "  warnings.warn(\n"
     ]
    },
    {
     "ename": "KeyboardInterrupt",
     "evalue": "",
     "output_type": "error",
     "traceback": [
      "\u001b[0;31m---------------------------------------------------------------------------\u001b[0m",
      "\u001b[0;31mKeyboardInterrupt\u001b[0m                         Traceback (most recent call last)",
      "Cell \u001b[0;32mIn[47], line 47\u001b[0m\n\u001b[1;32m     44\u001b[0m grid_search \u001b[39m=\u001b[39m GridSearchCV(estimator\u001b[39m=\u001b[39mmodel, param_grid\u001b[39m=\u001b[39mparam_grid, cv\u001b[39m=\u001b[39minner_fold, scoring\u001b[39m=\u001b[39m\u001b[39m'\u001b[39m\u001b[39maccuracy\u001b[39m\u001b[39m'\u001b[39m, verbose\u001b[39m=\u001b[39m\u001b[39m1\u001b[39m, n_jobs\u001b[39m=\u001b[39mn_jobs, refit\u001b[39m=\u001b[39m\u001b[39mTrue\u001b[39;00m)\n\u001b[1;32m     46\u001b[0m \u001b[39m# Perform hyperparameter tuning\u001b[39;00m\n\u001b[0;32m---> 47\u001b[0m grid_search\u001b[39m.\u001b[39;49mfit(X_fold_train, y_fold_train)\n\u001b[1;32m     49\u001b[0m \u001b[39m# 3.C. Record performance of each set of parameters\u001b[39;00m\n\u001b[1;32m     50\u001b[0m best_model \u001b[39m=\u001b[39m grid_search\u001b[39m.\u001b[39mbest_estimator_\n",
      "File \u001b[0;32m/Library/Frameworks/Python.framework/Versions/3.11/lib/python3.11/site-packages/sklearn/base.py:1351\u001b[0m, in \u001b[0;36m_fit_context.<locals>.decorator.<locals>.wrapper\u001b[0;34m(estimator, *args, **kwargs)\u001b[0m\n\u001b[1;32m   1344\u001b[0m     estimator\u001b[39m.\u001b[39m_validate_params()\n\u001b[1;32m   1346\u001b[0m \u001b[39mwith\u001b[39;00m config_context(\n\u001b[1;32m   1347\u001b[0m     skip_parameter_validation\u001b[39m=\u001b[39m(\n\u001b[1;32m   1348\u001b[0m         prefer_skip_nested_validation \u001b[39mor\u001b[39;00m global_skip_validation\n\u001b[1;32m   1349\u001b[0m     )\n\u001b[1;32m   1350\u001b[0m ):\n\u001b[0;32m-> 1351\u001b[0m     \u001b[39mreturn\u001b[39;00m fit_method(estimator, \u001b[39m*\u001b[39;49margs, \u001b[39m*\u001b[39;49m\u001b[39m*\u001b[39;49mkwargs)\n",
      "File \u001b[0;32m/Library/Frameworks/Python.framework/Versions/3.11/lib/python3.11/site-packages/sklearn/model_selection/_search.py:970\u001b[0m, in \u001b[0;36mBaseSearchCV.fit\u001b[0;34m(self, X, y, **params)\u001b[0m\n\u001b[1;32m    964\u001b[0m     results \u001b[39m=\u001b[39m \u001b[39mself\u001b[39m\u001b[39m.\u001b[39m_format_results(\n\u001b[1;32m    965\u001b[0m         all_candidate_params, n_splits, all_out, all_more_results\n\u001b[1;32m    966\u001b[0m     )\n\u001b[1;32m    968\u001b[0m     \u001b[39mreturn\u001b[39;00m results\n\u001b[0;32m--> 970\u001b[0m \u001b[39mself\u001b[39;49m\u001b[39m.\u001b[39;49m_run_search(evaluate_candidates)\n\u001b[1;32m    972\u001b[0m \u001b[39m# multimetric is determined here because in the case of a callable\u001b[39;00m\n\u001b[1;32m    973\u001b[0m \u001b[39m# self.scoring the return type is only known after calling\u001b[39;00m\n\u001b[1;32m    974\u001b[0m first_test_score \u001b[39m=\u001b[39m all_out[\u001b[39m0\u001b[39m][\u001b[39m\"\u001b[39m\u001b[39mtest_scores\u001b[39m\u001b[39m\"\u001b[39m]\n",
      "File \u001b[0;32m/Library/Frameworks/Python.framework/Versions/3.11/lib/python3.11/site-packages/sklearn/model_selection/_search.py:1527\u001b[0m, in \u001b[0;36mGridSearchCV._run_search\u001b[0;34m(self, evaluate_candidates)\u001b[0m\n\u001b[1;32m   1525\u001b[0m \u001b[39mdef\u001b[39;00m \u001b[39m_run_search\u001b[39m(\u001b[39mself\u001b[39m, evaluate_candidates):\n\u001b[1;32m   1526\u001b[0m \u001b[39m    \u001b[39m\u001b[39m\"\"\"Search all candidates in param_grid\"\"\"\u001b[39;00m\n\u001b[0;32m-> 1527\u001b[0m     evaluate_candidates(ParameterGrid(\u001b[39mself\u001b[39;49m\u001b[39m.\u001b[39;49mparam_grid))\n",
      "File \u001b[0;32m/Library/Frameworks/Python.framework/Versions/3.11/lib/python3.11/site-packages/sklearn/model_selection/_search.py:916\u001b[0m, in \u001b[0;36mBaseSearchCV.fit.<locals>.evaluate_candidates\u001b[0;34m(candidate_params, cv, more_results)\u001b[0m\n\u001b[1;32m    908\u001b[0m \u001b[39mif\u001b[39;00m \u001b[39mself\u001b[39m\u001b[39m.\u001b[39mverbose \u001b[39m>\u001b[39m \u001b[39m0\u001b[39m:\n\u001b[1;32m    909\u001b[0m     \u001b[39mprint\u001b[39m(\n\u001b[1;32m    910\u001b[0m         \u001b[39m\"\u001b[39m\u001b[39mFitting \u001b[39m\u001b[39m{0}\u001b[39;00m\u001b[39m folds for each of \u001b[39m\u001b[39m{1}\u001b[39;00m\u001b[39m candidates,\u001b[39m\u001b[39m\"\u001b[39m\n\u001b[1;32m    911\u001b[0m         \u001b[39m\"\u001b[39m\u001b[39m totalling \u001b[39m\u001b[39m{2}\u001b[39;00m\u001b[39m fits\u001b[39m\u001b[39m\"\u001b[39m\u001b[39m.\u001b[39mformat(\n\u001b[1;32m    912\u001b[0m             n_splits, n_candidates, n_candidates \u001b[39m*\u001b[39m n_splits\n\u001b[1;32m    913\u001b[0m         )\n\u001b[1;32m    914\u001b[0m     )\n\u001b[0;32m--> 916\u001b[0m out \u001b[39m=\u001b[39m parallel(\n\u001b[1;32m    917\u001b[0m     delayed(_fit_and_score)(\n\u001b[1;32m    918\u001b[0m         clone(base_estimator),\n\u001b[1;32m    919\u001b[0m         X,\n\u001b[1;32m    920\u001b[0m         y,\n\u001b[1;32m    921\u001b[0m         train\u001b[39m=\u001b[39;49mtrain,\n\u001b[1;32m    922\u001b[0m         test\u001b[39m=\u001b[39;49mtest,\n\u001b[1;32m    923\u001b[0m         parameters\u001b[39m=\u001b[39;49mparameters,\n\u001b[1;32m    924\u001b[0m         split_progress\u001b[39m=\u001b[39;49m(split_idx, n_splits),\n\u001b[1;32m    925\u001b[0m         candidate_progress\u001b[39m=\u001b[39;49m(cand_idx, n_candidates),\n\u001b[1;32m    926\u001b[0m         \u001b[39m*\u001b[39;49m\u001b[39m*\u001b[39;49mfit_and_score_kwargs,\n\u001b[1;32m    927\u001b[0m     )\n\u001b[1;32m    928\u001b[0m     \u001b[39mfor\u001b[39;49;00m (cand_idx, parameters), (split_idx, (train, test)) \u001b[39min\u001b[39;49;00m product(\n\u001b[1;32m    929\u001b[0m         \u001b[39menumerate\u001b[39;49m(candidate_params),\n\u001b[1;32m    930\u001b[0m         \u001b[39menumerate\u001b[39;49m(cv\u001b[39m.\u001b[39;49msplit(X, y, \u001b[39m*\u001b[39;49m\u001b[39m*\u001b[39;49mrouted_params\u001b[39m.\u001b[39;49msplitter\u001b[39m.\u001b[39;49msplit)),\n\u001b[1;32m    931\u001b[0m     )\n\u001b[1;32m    932\u001b[0m )\n\u001b[1;32m    934\u001b[0m \u001b[39mif\u001b[39;00m \u001b[39mlen\u001b[39m(out) \u001b[39m<\u001b[39m \u001b[39m1\u001b[39m:\n\u001b[1;32m    935\u001b[0m     \u001b[39mraise\u001b[39;00m \u001b[39mValueError\u001b[39;00m(\n\u001b[1;32m    936\u001b[0m         \u001b[39m\"\u001b[39m\u001b[39mNo fits were performed. \u001b[39m\u001b[39m\"\u001b[39m\n\u001b[1;32m    937\u001b[0m         \u001b[39m\"\u001b[39m\u001b[39mWas the CV iterator empty? \u001b[39m\u001b[39m\"\u001b[39m\n\u001b[1;32m    938\u001b[0m         \u001b[39m\"\u001b[39m\u001b[39mWere there no candidates?\u001b[39m\u001b[39m\"\u001b[39m\n\u001b[1;32m    939\u001b[0m     )\n",
      "File \u001b[0;32m/Library/Frameworks/Python.framework/Versions/3.11/lib/python3.11/site-packages/sklearn/utils/parallel.py:67\u001b[0m, in \u001b[0;36mParallel.__call__\u001b[0;34m(self, iterable)\u001b[0m\n\u001b[1;32m     62\u001b[0m config \u001b[39m=\u001b[39m get_config()\n\u001b[1;32m     63\u001b[0m iterable_with_config \u001b[39m=\u001b[39m (\n\u001b[1;32m     64\u001b[0m     (_with_config(delayed_func, config), args, kwargs)\n\u001b[1;32m     65\u001b[0m     \u001b[39mfor\u001b[39;00m delayed_func, args, kwargs \u001b[39min\u001b[39;00m iterable\n\u001b[1;32m     66\u001b[0m )\n\u001b[0;32m---> 67\u001b[0m \u001b[39mreturn\u001b[39;00m \u001b[39msuper\u001b[39;49m()\u001b[39m.\u001b[39;49m\u001b[39m__call__\u001b[39;49m(iterable_with_config)\n",
      "File \u001b[0;32m/Library/Frameworks/Python.framework/Versions/3.11/lib/python3.11/site-packages/joblib/parallel.py:1952\u001b[0m, in \u001b[0;36mParallel.__call__\u001b[0;34m(self, iterable)\u001b[0m\n\u001b[1;32m   1946\u001b[0m \u001b[39m# The first item from the output is blank, but it makes the interpreter\u001b[39;00m\n\u001b[1;32m   1947\u001b[0m \u001b[39m# progress until it enters the Try/Except block of the generator and\u001b[39;00m\n\u001b[1;32m   1948\u001b[0m \u001b[39m# reach the first `yield` statement. This starts the aynchronous\u001b[39;00m\n\u001b[1;32m   1949\u001b[0m \u001b[39m# dispatch of the tasks to the workers.\u001b[39;00m\n\u001b[1;32m   1950\u001b[0m \u001b[39mnext\u001b[39m(output)\n\u001b[0;32m-> 1952\u001b[0m \u001b[39mreturn\u001b[39;00m output \u001b[39mif\u001b[39;00m \u001b[39mself\u001b[39m\u001b[39m.\u001b[39mreturn_generator \u001b[39melse\u001b[39;00m \u001b[39mlist\u001b[39m(output)\n",
      "File \u001b[0;32m/Library/Frameworks/Python.framework/Versions/3.11/lib/python3.11/site-packages/joblib/parallel.py:1595\u001b[0m, in \u001b[0;36mParallel._get_outputs\u001b[0;34m(self, iterator, pre_dispatch)\u001b[0m\n\u001b[1;32m   1592\u001b[0m     \u001b[39myield\u001b[39;00m\n\u001b[1;32m   1594\u001b[0m     \u001b[39mwith\u001b[39;00m \u001b[39mself\u001b[39m\u001b[39m.\u001b[39m_backend\u001b[39m.\u001b[39mretrieval_context():\n\u001b[0;32m-> 1595\u001b[0m         \u001b[39myield from\u001b[39;00m \u001b[39mself\u001b[39m\u001b[39m.\u001b[39m_retrieve()\n\u001b[1;32m   1597\u001b[0m \u001b[39mexcept\u001b[39;00m \u001b[39mGeneratorExit\u001b[39;00m:\n\u001b[1;32m   1598\u001b[0m     \u001b[39m# The generator has been garbage collected before being fully\u001b[39;00m\n\u001b[1;32m   1599\u001b[0m     \u001b[39m# consumed. This aborts the remaining tasks if possible and warn\u001b[39;00m\n\u001b[1;32m   1600\u001b[0m     \u001b[39m# the user if necessary.\u001b[39;00m\n\u001b[1;32m   1601\u001b[0m     \u001b[39mself\u001b[39m\u001b[39m.\u001b[39m_exception \u001b[39m=\u001b[39m \u001b[39mTrue\u001b[39;00m\n",
      "File \u001b[0;32m/Library/Frameworks/Python.framework/Versions/3.11/lib/python3.11/site-packages/joblib/parallel.py:1707\u001b[0m, in \u001b[0;36mParallel._retrieve\u001b[0;34m(self)\u001b[0m\n\u001b[1;32m   1702\u001b[0m \u001b[39m# If the next job is not ready for retrieval yet, we just wait for\u001b[39;00m\n\u001b[1;32m   1703\u001b[0m \u001b[39m# async callbacks to progress.\u001b[39;00m\n\u001b[1;32m   1704\u001b[0m \u001b[39mif\u001b[39;00m ((\u001b[39mlen\u001b[39m(\u001b[39mself\u001b[39m\u001b[39m.\u001b[39m_jobs) \u001b[39m==\u001b[39m \u001b[39m0\u001b[39m) \u001b[39mor\u001b[39;00m\n\u001b[1;32m   1705\u001b[0m     (\u001b[39mself\u001b[39m\u001b[39m.\u001b[39m_jobs[\u001b[39m0\u001b[39m]\u001b[39m.\u001b[39mget_status(\n\u001b[1;32m   1706\u001b[0m         timeout\u001b[39m=\u001b[39m\u001b[39mself\u001b[39m\u001b[39m.\u001b[39mtimeout) \u001b[39m==\u001b[39m TASK_PENDING)):\n\u001b[0;32m-> 1707\u001b[0m     time\u001b[39m.\u001b[39msleep(\u001b[39m0.01\u001b[39m)\n\u001b[1;32m   1708\u001b[0m     \u001b[39mcontinue\u001b[39;00m\n\u001b[1;32m   1710\u001b[0m \u001b[39m# We need to be careful: the job list can be filling up as\u001b[39;00m\n\u001b[1;32m   1711\u001b[0m \u001b[39m# we empty it and Python list are not thread-safe by\u001b[39;00m\n\u001b[1;32m   1712\u001b[0m \u001b[39m# default hence the use of the lock\u001b[39;00m\n",
      "\u001b[0;31mKeyboardInterrupt\u001b[0m: "
     ]
    }
   ],
   "source": [
    "from sklearn.model_selection import GridSearchCV\n",
    "\n",
    "# Initialize best_score, best_model, outer_scores\n",
    "best_score = 0\n",
    "best_model = None\n",
    "outer_scores = {'logistic_regression': []}\n",
    "\n",
    "\n",
    "# Comment depending on training sample subset\n",
    "# X_subset, y_subset = X_train, y_train\n",
    "X_subset, y_subset = temp_x, temp_y\n",
    "\n",
    "# Variables for CV loop\n",
    "\n",
    "    # Initialize outer cross-validation\n",
    "outer_fold = KFold(n_splits=5, shuffle=True, random_state=42)\n",
    "\n",
    "    # Set n_jobs = 1 when executing neural network to avoid pickling issues related to parallelization, \n",
    "    # Set n_jobs = -1 for other models to save time\n",
    "n_jobs = (1 if model_name == 'neural_network' else -1)\n",
    "\n",
    "\n",
    "\"\"\" For each model type, grid search (inner loop) over param_grid and find best hyperparameters. \n",
    "    Then cross validate (outer loop) different model types to find the one with best performance. \n",
    "\n",
    "    Inner loop:     grid search over hyperparameters, number of fold = combination of hyperparameters \n",
    "    Outer loop:     number of fold = number of model types \n",
    "    \"\"\"\n",
    "\n",
    "# Outer CV loop\n",
    "for model_name, (model, param_grid, grid_length) in uppercase_models.items():\n",
    "    # Display step \n",
    "    display(Markdown(f'## Now initializing {model_name}'))\n",
    "\n",
    "    fold_scores = []    \n",
    "\n",
    "        # Execute the outer cross-validation\n",
    "    for train_index, test_index in outer_fold.split(X_subset): \n",
    "        X_fold_train, X_fold_test = [X_subset[i] for i in train_index], [X_subset[i] for i in test_index]\n",
    "        y_fold_train, y_fold_test = [y_subset[i] for i in train_index], [y_subset[i] for i in test_index]\n",
    "\n",
    "        # Initialize inner cross-validation\n",
    "        inner_fold = KFold(n_splits=grid_length, shuffle=True, random_state=42)\n",
    "        grid_search = GridSearchCV(estimator=model, param_grid=param_grid, cv=inner_fold, scoring='accuracy', verbose=1, n_jobs=n_jobs, refit=True)\n",
    "            \n",
    "        # Perform hyperparameter tuning\n",
    "        grid_search.fit(X_fold_train, y_fold_train)\n",
    "            \n",
    "        # 3.C. Record performance of each set of parameters\n",
    "        best_model = grid_search.best_estimator_\n",
    "            \n",
    "        # Evaluate the best model on the outer fold\n",
    "        y_pred = best_model.predict(X_fold_test)\n",
    "        accuracy = accuracy_score(y_fold_test, y_pred)\n",
    "        outer_scores[model_name].append(accuracy)\n",
    "    "
   ]
  },
  {
   "cell_type": "code",
   "execution_count": null,
   "metadata": {},
   "outputs": [],
   "source": [
    "\n",
    "\n",
    "# Model comparison\n",
    "for model_name, scores in outer_scores.items():\n",
    "    avg_accuracy = np.mean(scores)\n",
    "    print(f'{model_name}: Average Accuracy = {avg_accuracy}')\n"
   ]
  },
  {
   "cell_type": "markdown",
   "metadata": {},
   "source": [
    "#### 4. Evaluate model performance and promote one model as the winner"
   ]
  },
  {
   "cell_type": "code",
   "execution_count": null,
   "metadata": {},
   "outputs": [],
   "source": [
    "display(Markdown(f'## Best model parameters: {best_model}'))\n",
    "display(Markdown(f'## Best model average cross-validation score: {best_score}'))"
   ]
  },
  {
   "cell_type": "markdown",
   "metadata": {},
   "source": [
    "#### 5. Training winning model on both train + test"
   ]
  },
  {
   "cell_type": "code",
   "execution_count": null,
   "metadata": {},
   "outputs": [],
   "source": [
    "# Select best model for training\n",
    "best_model_instance = best_model[0](**best_model[1])\n",
    "# Fit the best model on the whole training set\n",
    "best_model_instance.fit(X_train, y_train)"
   ]
  },
  {
   "cell_type": "markdown",
   "metadata": {},
   "source": [
    "#### 6. Check model performance on validation hold-out"
   ]
  },
  {
   "cell_type": "code",
   "execution_count": null,
   "metadata": {},
   "outputs": [],
   "source": [
    "\n",
    "y_val_pred = best_model_instance.predict(X_val)\n",
    "validation_score = accuracy_score(y_val, y_val_pred)\n",
    "print(f\"Validation Hold-out Score: {validation_score}\")"
   ]
  }
 ],
 "metadata": {
  "kernelspec": {
   "display_name": ".venv",
   "language": "python",
   "name": "python3"
  },
  "language_info": {
   "codemirror_mode": {
    "name": "ipython",
    "version": 3
   },
   "file_extension": ".py",
   "mimetype": "text/x-python",
   "name": "python",
   "nbconvert_exporter": "python",
   "pygments_lexer": "ipython3",
   "version": "3.11.2"
  }
 },
 "nbformat": 4,
 "nbformat_minor": 2
}
