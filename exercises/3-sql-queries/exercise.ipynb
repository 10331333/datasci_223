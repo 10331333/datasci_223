{
 "cells": [
  {
   "cell_type": "markdown",
   "metadata": {},
   "source": [
    "# Exercise: Analyzing Chinook Database\n",
    "\n",
    "Preparation I've done:\n",
    " - Retrieve the dataset and load it\n",
    " - Load the %sql extension and point it at the database\n",
    " - Display the tables and an example query\n",
    "\n",
    "Additional steps you might take:\n",
    " - Add libraries for visualization (matplotlib, seaborn, plotly)\n",
    " - Add libraries for statistics (numpy)\n",
    " - Explore the dataset using SQL and/or pandas\n",
    "\n",
    "----\n",
    "\n",
    "1. Retrieve a list of all the tracks in the database, displaying only the track name and the name of the album it belongs to. Limit the result to the first 5 rows.\n",
    "   > Operations: `SELECT`\n",
    "2. Find the total number of customers from each country. Display the country name and the corresponding count. Order the results by the count in descending order.\n",
    "   > Operations: `SELECT`, `COUNT`, `GROUP BY`, `ORDER BY`\n",
    "3. Identify the top 5 genres with the highest number of tracks. Display the genre name along with the total number of tracks for each genre.\n",
    "   > Operations: `SELECT`, `COUNT`, `GROUP BY`, `ORDER BY`\n",
    "4. Determine the average invoice total for each customer, considering both the album and individual track purchases. Display the customer's first and last name along with the average invoice total. Order the results by the average invoice total in descending order.\n",
    "   > Operations: `SELECT`, `AVG`, `JOIN`, `GROUP BY`, `ORDER BY`\n",
    "5. Identify the customer who spent the most on music purchases. Display the customer's first and last name, along with the total amount spent.\n",
    "   > Operations: `SELECT`, `SUM`, `JOIN`, `GROUP BY`, `ORDER BY`, `LIMIT`"
   ]
  },
  {
   "cell_type": "code",
   "execution_count": null,
   "metadata": {},
   "outputs": [],
   "source": [
    "# Load chinook dataset and query it using SQL magic into pandas dataframes\n",
    "import pandas as pd\n",
    "import sqlite3\n",
    "%load_ext sql\n",
    "\n",
    "# Load data\n",
    "conn = sqlite3.connect(\"chinook.sqlite\")\n",
    "\n",
    "# Tell %sql about the database\n",
    "%sql sqlite:///chinook.sqlite\n",
    "\n",
    "# List tables in database\n",
    "query = \"SELECT name FROM sqlite_master WHERE type='table';\"\n",
    "\n",
    "# Read data into a Pandas DataFrame\n",
    "tables = %sql $query\n",
    "\n",
    "# Print head\n",
    "display(tables)\n",
    "\n",
    "# Query to get the first 5 rows of the `albums` table\n",
    "result = %sql SELECT * FROM albums LIMIT 5;\n",
    "\n",
    "# Display query result, note that Pandas DataFrame is returned!\n",
    "display(result)\n"
   ]
  },
  {
   "cell_type": "markdown",
   "metadata": {},
   "source": [
    "1. Retrieve a list of all the tracks in the database, displaying only the track name and the name of the album it belongs to. Limit the result to the first 5 rows.\n",
    "   > Operations: `SELECT`"
   ]
  },
  {
   "cell_type": "code",
   "execution_count": null,
   "metadata": {},
   "outputs": [],
   "source": [
    "%%sql \n",
    "SELECT tracks.Name, albums.Title \n",
    "FROM tracks \n",
    "LEFT JOIN albums ON tracks.AlbumID=albums.AlbumID\n",
    "Limit 5;"
   ]
  },
  {
   "cell_type": "markdown",
   "metadata": {},
   "source": [
    "2. Find the total number of customers from each country. Display the country name and the corresponding count. Order the results by the count in descending order.\n",
    "   > Operations: `SELECT`, `COUNT`, `GROUP BY`, `ORDER BY` "
   ]
  },
  {
   "cell_type": "code",
   "execution_count": null,
   "metadata": {},
   "outputs": [],
   "source": [
    "%%sql \n",
    "SELECT DISTINCT Country, COUNT(CustomerId)AS total_customers\n",
    "FROM customers \n",
    "Group by Country\n",
    "Order by total_customers DESC;"
   ]
  },
  {
   "cell_type": "markdown",
   "metadata": {},
   "source": [
    "3. Identify the top 5 genres with the highest number of tracks. Display the genre name along with the total number of tracks for each genre.\n",
    "   > Operations: `SELECT`, `COUNT`, `GROUP BY`, `ORDER BY`"
   ]
  },
  {
   "cell_type": "code",
   "execution_count": null,
   "metadata": {},
   "outputs": [],
   "source": [
    "%%sql \n",
    "SELECT genres.Name, COUNT(tracks.TrackId) AS track_count\n",
    "From tracks\n",
    "LEFT JOIN genres USING (GenreId)\n",
    "GROUP BY tracks.GenreId\n",
    "ORDER BY track_count DESC\n",
    "Limit 5;\n"
   ]
  },
  {
   "cell_type": "markdown",
   "metadata": {},
   "source": [
    "4. Determine the average invoice total for each customer, considering both the album and individual track purchases. Display the customer's first and last name along with the average invoice total. Order the results by the average invoice total in descending order.\n",
    "   > Operations: `SELECT`, `AVG`, `JOIN`, `GROUP BY`, `ORDER BY`"
   ]
  },
  {
   "cell_type": "code",
   "execution_count": null,
   "metadata": {},
   "outputs": [],
   "source": [
    "%%sql\n",
    "SELECT c.FirstName, c.LastName, ROUND(AVG(i.Total),2) AS avg_invoice\n",
    "FROM invoices i\n",
    "JOIN customers c USING (CustomerID)\n",
    "GROUP BY i.CustomerId\n",
    "ORDER BY avg_invoice DESC; \n"
   ]
  },
  {
   "cell_type": "markdown",
   "metadata": {},
   "source": [
    "5. Identify the customer who spent the most on music purchases. Display the customer's first and last name, along with the total amount spent.\n",
    "   > Operations: `SELECT`, `SUM`, `JOIN`, `GROUP BY`, `ORDER BY`, `LIMIT`"
   ]
  },
  {
   "cell_type": "code",
   "execution_count": null,
   "metadata": {},
   "outputs": [],
   "source": [
    "%%sql\n",
    "SELECT c.FirstName, c.LastName, ROUND(SUM(i.Total),2) AS sum_invoice\n",
    "FROM invoices i\n",
    "JOIN customers c USING (CustomerID)\n",
    "GROUP BY i.CustomerId\n",
    "ORDER BY sum_invoice DESC; "
   ]
  }
 ],
 "metadata": {
  "kernelspec": {
   "display_name": ".venv",
   "language": "python",
   "name": "python3"
  },
  "language_info": {
   "codemirror_mode": {
    "name": "ipython",
    "version": 3
   },
   "file_extension": ".py",
   "mimetype": "text/x-python",
   "name": "python",
   "nbconvert_exporter": "python",
   "pygments_lexer": "ipython3",
   "version": "3.11.2"
  }
 },
 "nbformat": 4,
 "nbformat_minor": 2
}
